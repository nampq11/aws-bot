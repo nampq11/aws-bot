{
 "cells": [
  {
   "cell_type": "markdown",
   "id": "a09c0743-cf1e-4bc3-af53-11354391fc6d",
   "metadata": {},
   "source": [
    "## Setup"
   ]
  },
  {
   "cell_type": "code",
   "execution_count": 1,
   "id": "00837e2c-1323-429c-9f0b-7a8dbcee4d7f",
   "metadata": {},
   "outputs": [],
   "source": [
    "%load_ext autoreload\n",
    "%autoreload 2"
   ]
  },
  {
   "cell_type": "code",
   "execution_count": 2,
   "id": "ab363537-5972-4920-aa01-b24e3236f712",
   "metadata": {},
   "outputs": [],
   "source": [
    "import os\n",
    "\n",
    "import sys\n",
    "sys.path.insert(0, '..')"
   ]
  },
  {
   "cell_type": "code",
   "execution_count": 3,
   "id": "38aff7e9-d32f-4d1e-a65e-c45e4ab0d5de",
   "metadata": {},
   "outputs": [],
   "source": [
    "from loguru import logger"
   ]
  },
  {
   "cell_type": "code",
   "execution_count": 4,
   "id": "998f5de1-dad7-4660-a4fe-793c279816c1",
   "metadata": {},
   "outputs": [
    {
     "data": {
      "text/plain": [
       "True"
      ]
     },
     "execution_count": 4,
     "metadata": {},
     "output_type": "execute_result"
    }
   ],
   "source": [
    "import json\n",
    "\n",
    "from dotenv import load_dotenv\n",
    "\n",
    "load_dotenv()"
   ]
  },
  {
   "cell_type": "code",
   "execution_count": 5,
   "id": "074793b5-92b1-4ab3-8802-1ab2bd2716d7",
   "metadata": {},
   "outputs": [],
   "source": [
    "from tqdm.notebook import tqdm\n",
    "\n",
    "import nest_asyncio\n",
    "nest_asyncio.apply()"
   ]
  },
  {
   "cell_type": "markdown",
   "id": "6a05cc21-e3c3-4996-ab61-be3ca72a5269",
   "metadata": {},
   "source": [
    "## Setup vector store"
   ]
  },
  {
   "cell_type": "code",
   "execution_count": 6,
   "id": "c9aaac4c-92c0-446e-b940-a022562aeefc",
   "metadata": {},
   "outputs": [],
   "source": [
    "from llama_index.core import SimpleDirectoryReader\n",
    "from llama_index.vector_stores.opensearch import (\n",
    "    OpensearchVectorClient,\n",
    "    OpensearchVectorStore,\n",
    ")\n",
    "from llama_index.core import VectorStoreIndex, StorageContext\n"
   ]
  },
  {
   "cell_type": "code",
   "execution_count": 7,
   "id": "e7dca6da-46d3-4695-a331-1c1919dad1f5",
   "metadata": {},
   "outputs": [],
   "source": [
    "endpoint = os.getenv('OPENSEARCH_ENDPOINT', 'http://localhost:9200')\n",
    "index = os.getenv('OPENSEARCH_INDEX', 'index-demo')"
   ]
  },
  {
   "cell_type": "markdown",
   "id": "3a7e0d17-47ab-481a-8d3d-52c633d4e335",
   "metadata": {},
   "source": [
    "## Load document"
   ]
  },
  {
   "cell_type": "code",
   "execution_count": 8,
   "id": "55f610f5-6046-4234-acf5-b573396b72c7",
   "metadata": {},
   "outputs": [
    {
     "data": {
      "application/vnd.jupyter.widget-view+json": {
       "model_id": "e4bf88e36ec3405ab4d164203c6782b8",
       "version_major": 2,
       "version_minor": 0
      },
      "text/plain": [
       "Saving the dataset (0/1 shards):   0%|          | 0/899 [00:00<?, ? examples/s]"
      ]
     },
     "metadata": {},
     "output_type": "display_data"
    }
   ],
   "source": [
    "from datasets import load_dataset\n",
    "\n",
    "DATA_PATH = os.getenv('DATA_PATH', 'data')\n",
    "DATASET_NAME = \"BookingCare/ViHealth-NLI\"\n",
    "\n",
    "datasets = load_dataset(DATASET_NAME, split='test')\n",
    "datasets.save_to_disk(os.path.join(DATA_PATH, DATASET_NAME))"
   ]
  },
  {
   "cell_type": "code",
   "execution_count": 9,
   "id": "5ea2fdd0-abd0-4bec-b42d-969d7f448f9f",
   "metadata": {},
   "outputs": [
    {
     "data": {
      "text/plain": [
       "Dataset({\n",
       "    features: ['id', 'sentence1', 'sentence2'],\n",
       "    num_rows: 899\n",
       "})"
      ]
     },
     "execution_count": 9,
     "metadata": {},
     "output_type": "execute_result"
    }
   ],
   "source": [
    "datasets"
   ]
  },
  {
   "cell_type": "code",
   "execution_count": 10,
   "id": "aff8a0f0-735a-4623-bebc-e3811a810f0c",
   "metadata": {},
   "outputs": [
    {
     "name": "stderr",
     "output_type": "stream",
     "text": [
      "\u001b[32m2024-11-17 00:39:39.270\u001b[0m | \u001b[1mINFO    \u001b[0m | \u001b[36m__main__\u001b[0m:\u001b[36m<module>\u001b[0m:\u001b[36m9\u001b[0m - \u001b[1m[COLLECT] len(documents)=899\u001b[0m\n"
     ]
    }
   ],
   "source": [
    "from llama_index.core import Document\n",
    "documents = []\n",
    "for document in datasets:\n",
    "    text = document['sentence1'] + '.\\n'+ document['sentence2']\n",
    "    doc = Document(\n",
    "        text=text\n",
    "    )\n",
    "    documents.append(doc)\n",
    "logger.info(f\"[COLLECT] {len(documents)=}\")"
   ]
  },
  {
   "cell_type": "code",
   "execution_count": 11,
   "id": "141dd9d6-c59a-439f-8c27-0aae4dcbac4d",
   "metadata": {},
   "outputs": [
    {
     "name": "stdout",
     "output_type": "stream",
     "text": [
      "Rau xanh lá đậm.\n",
      "Các loại rau có màu xanh lá đậm như cải bó xôi, bông cải xanh, mồng tơi, cải xoăn... chứa hàm lượng cao folate và một loại vitamin B được chứng minh giúp cải thiện khả năng rụng trứng ở phụ nữ .\n"
     ]
    }
   ],
   "source": [
    "from llama_index.core.schema import MetadataMode\n",
    "\n",
    "document = documents[0]\n",
    "print(document.get_content(metadata_mode=MetadataMode.EMBED))"
   ]
  },
  {
   "cell_type": "markdown",
   "id": "fd4355c4-f7f4-4ff5-932d-0fa4d7374e50",
   "metadata": {},
   "source": [
    "## Setting LLM"
   ]
  },
  {
   "cell_type": "code",
   "execution_count": 12,
   "id": "fb5b1731-058f-4611-b583-52b42fe992d9",
   "metadata": {},
   "outputs": [],
   "source": [
    "from llama_index.embeddings.huggingface import HuggingFaceEmbedding"
   ]
  },
  {
   "cell_type": "code",
   "execution_count": 13,
   "id": "b3e21769-be4b-4b94-99ae-f0a03203de91",
   "metadata": {},
   "outputs": [],
   "source": [
    "model_name = 'BookingCare/gte-multilingual-base-v1'\n",
    "embed_model = HuggingFaceEmbedding(model_name, device='cpu', trust_remote_code=True)"
   ]
  },
  {
   "cell_type": "code",
   "execution_count": 14,
   "id": "09bf652d-3347-45ee-8809-8538cbcd05c8",
   "metadata": {},
   "outputs": [],
   "source": [
    "from llama_index.core import Settings\n",
    "Settings.embed_model = embed_model"
   ]
  },
  {
   "cell_type": "markdown",
   "id": "0d765dbd-50d4-4f68-aa30-dd49631bd674",
   "metadata": {},
   "source": [
    "## Vector Store"
   ]
  },
  {
   "cell_type": "code",
   "execution_count": 15,
   "id": "b10ccd63-1678-41e7-a719-781f39b3c201",
   "metadata": {},
   "outputs": [],
   "source": [
    "DIM = 768\n",
    "embedding_field = \"embedding\"\n",
    "client = OpensearchVectorClient(\n",
    "    endpoint=endpoint,\n",
    "    index=index,\n",
    "    dim=DIM,\n",
    "    embedding_field=embedding_field\n",
    ")"
   ]
  },
  {
   "cell_type": "code",
   "execution_count": 16,
   "id": "2ea8da7c-4d88-4928-9f95-b82d4beb465b",
   "metadata": {},
   "outputs": [],
   "source": [
    "vector_store = OpensearchVectorStore(client)"
   ]
  },
  {
   "cell_type": "markdown",
   "id": "eea4f764-4c00-41f8-b5b0-52621ba1aa37",
   "metadata": {},
   "source": [
    "## Index embeddings"
   ]
  },
  {
   "cell_type": "code",
   "execution_count": 17,
   "id": "c908a2bd-6ff2-4606-a80d-bbd5f59549b4",
   "metadata": {},
   "outputs": [],
   "source": [
    "import time\n",
    "import pickle\n",
    "from multiprocessing import set_start_method\n",
    "from llama_index.core.storage.docstore import SimpleDocumentStore\n",
    "from llama_index.core.node_parser import SentenceSplitter"
   ]
  },
  {
   "cell_type": "code",
   "execution_count": 18,
   "id": "3f810528-d4d6-4acd-8a3b-96be7171ba20",
   "metadata": {},
   "outputs": [],
   "source": [
    "chunker = SentenceSplitter\n",
    "\n",
    "chunker_cfg = {\n",
    "    \"chunk_size\": 1024,\n",
    "    \"chunk_overlap\": 10,\n",
    "}"
   ]
  },
  {
   "cell_type": "code",
   "execution_count": 20,
   "id": "8f1dcc7f-0573-4ce5-b0f9-2722b125ce38",
   "metadata": {},
   "outputs": [
    {
     "name": "stderr",
     "output_type": "stream",
     "text": [
      "\u001b[32m2024-11-17 00:44:28.380\u001b[0m | \u001b[1mINFO    \u001b[0m | \u001b[36m__main__\u001b[0m:\u001b[36m<module>\u001b[0m:\u001b[36m2\u001b[0m - \u001b[1mCreating new DB index\u001b[0m\n",
      "\u001b[32m2024-11-17 00:44:28.381\u001b[0m | \u001b[1mINFO    \u001b[0m | \u001b[36m__main__\u001b[0m:\u001b[36m<module>\u001b[0m:\u001b[36m17\u001b[0m - \u001b[1mRunning Ingestion Pipeline with num_workers=None...\u001b[0m\n"
     ]
    },
    {
     "data": {
      "application/vnd.jupyter.widget-view+json": {
       "model_id": "67980288c85246d197c461fd021868b2",
       "version_major": 2,
       "version_minor": 0
      },
      "text/plain": [
       "Parsing nodes:   0%|          | 0/899 [00:00<?, ?it/s]"
      ]
     },
     "metadata": {},
     "output_type": "display_data"
    },
    {
     "name": "stderr",
     "output_type": "stream",
     "text": [
      "Generating embeddings: 100%|████| 109/109 [04:07<00:00,  2.27s/it]\n",
      "\u001b[32m2024-11-17 00:48:38.659\u001b[0m | \u001b[1mINFO    \u001b[0m | \u001b[36m__main__\u001b[0m:\u001b[36m<module>\u001b[0m:\u001b[36m25\u001b[0m - \u001b[1mPersisting Storage Context to: \u001b[0m\n"
     ]
    }
   ],
   "source": [
    "t0 = time.perf_counter()\n",
    "logger.info(f'Creating new DB index')\n",
    "from llama_index.core.extractors import TitleExtractor\n",
    "from llama_index.core.ingestion import IngestionPipeline, IngestionCache\n",
    "\n",
    "pipeline = IngestionPipeline(\n",
    "    transformations=[\n",
    "        chunker(**chunker_cfg),\n",
    "        embed_model,\n",
    "    ],\n",
    "    vector_store=vector_store\n",
    ")\n",
    "num_workers=None\n",
    "# num_workers = os.cpu_count() - 1\n",
    "# os.environ['TOKENIZERS_PARALLELISM'] = 'true'\n",
    "# set_start_method('spawn', force=True)\n",
    "logger.info(f'Running Ingestion Pipeline with {num_workers=}...')\n",
    "nodes = await pipeline.arun(documents=documents, num_workers=num_workers, show_progress=True)\n",
    "docstore = SimpleDocumentStore()\n",
    "await docstore.async_add_documents(nodes)\n",
    "storage_context = StorageContext.from_defaults(\n",
    "    docstore=docstore,\n",
    "    vector_store=vector_store\n",
    ")\n",
    "logger.info(f'Persisting Storage Context to: ')\n",
    "storage_context.persist(os.path.join(DATA_PATH, 'storage_context'))\n",
    "t1 = time.perf_counter()"
   ]
  },
  {
   "cell_type": "code",
   "execution_count": 21,
   "id": "47068e1d-968b-4fb9-ac28-6ee8e96d7e4c",
   "metadata": {},
   "outputs": [
    {
     "name": "stderr",
     "output_type": "stream",
     "text": [
      "\u001b[32m2024-11-17 00:49:58.416\u001b[0m | \u001b[1mINFO    \u001b[0m | \u001b[36m__main__\u001b[0m:\u001b[36m<module>\u001b[0m:\u001b[36m1\u001b[0m - \u001b[1mIndexing 899 documents into VectorStoreIndex took 251s\u001b[0m\n",
      "\u001b[32m2024-11-17 00:49:58.417\u001b[0m | \u001b[1mINFO    \u001b[0m | \u001b[36m__main__\u001b[0m:\u001b[36m<module>\u001b[0m:\u001b[36m2\u001b[0m - \u001b[1m[COLLECT] len(nodes)=1085\u001b[0m\n"
     ]
    }
   ],
   "source": [
    "logger.info(f'Indexing {len(documents)} documents into VectorStoreIndex took {t1 - t0:,.0f}s')\n",
    "logger.info(f'[COLLECT] {len(nodes)=}')"
   ]
  },
  {
   "cell_type": "code",
   "execution_count": 22,
   "id": "b52239ec-a8ec-40aa-919a-cd3aeebcaa60",
   "metadata": {},
   "outputs": [
    {
     "name": "stdout",
     "output_type": "stream",
     "text": [
      "\n",
      "\n",
      "=======Node1===========\n",
      "Rau xanh lá đậm.\n",
      "Các loại rau có màu xanh lá đậm như cải bó xôi, bông cải xanh, mồng tơi, cải xoăn... chứa hàm lượng cao folate và một loại vitamin B được chứng minh giúp cải thiện khả năng rụng trứng ở phụ nữ .\n",
      "\n",
      "\n",
      "=======Node2===========\n",
      "Sơ cứu trật khớp ban đầu.\n",
      "Sau đây là cách sơ cứu trật khớp đơn giản bạn nên biết: Không di chuyển khớp, không nắn hoặc cố cử động khớp bị trật. Nghi ngờ gãy xương hoặc sai khớp cột sống: Tránh xoay vặn thân mình, nằm ngửa trên ván cứng, chèn chắc 2 bên cổ và thân mình bằng bao cát hoặc chăn gối. Sơ cứu trật khớp vai: Sử dụng dây vải hoặc dây băng treo cẳng tay vào cổ. Sơ cứu trật khớp khuỷu: cố định bằng 2 nẹp trước sau có độn bông. Sơ cứu trật khớp háng: cố định như gãy xương đùi, nằm ngửa, kê gối và chèn cho bệnh nhân trong tư thế hiện có, nhanh chóng chuyển bệnh nhân đến cơ sở y tế nắn chỉnh hình. Việc cấp cứu ban đầu gãy xương, trật khớp, bong gân rất quan trọng. Tuy nhiên, nếu không thực hiện sơ cứu đúng cách thì rất có thể người bệnh sẽ gặp nguy hiểm, thậm chí các vết thương còn trở nên nghiêm trọng hơn. Vì thế, nếu trong các trường hợp khẩn cấp bạn nên thực hiện các bước sơ cứu trên, đồng thời gọi điện cho các cơ sở y tế gần nhất để được ứng cứu kịp thời. Nguồn tham khảo: Cục quản lý khám chữa bệnh - Bộ Y tế\n"
     ]
    }
   ],
   "source": [
    "for i, node in enumerate(nodes[:2]):\n",
    "    print(f\"\\n\\n=======Node{i + 1}===========\")\n",
    "    print(node.get_text())"
   ]
  }
 ],
 "metadata": {
  "kernelspec": {
   "display_name": "Python 3 (ipykernel)",
   "language": "python",
   "name": "python3"
  },
  "language_info": {
   "codemirror_mode": {
    "name": "ipython",
    "version": 3
   },
   "file_extension": ".py",
   "mimetype": "text/x-python",
   "name": "python",
   "nbconvert_exporter": "python",
   "pygments_lexer": "ipython3",
   "version": "3.12.3"
  }
 },
 "nbformat": 4,
 "nbformat_minor": 5
}
